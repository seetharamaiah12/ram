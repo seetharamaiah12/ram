{
  "nbformat": 4,
  "nbformat_minor": 0,
  "metadata": {
    "colab": {
      "name": "week3py.ipynb",
      "provenance": [],
      "authorship_tag": "ABX9TyOXXOTTBwwz3ym37Yf8gByl",
      "include_colab_link": true
    },
    "kernelspec": {
      "name": "python3",
      "display_name": "Python 3"
    }
  },
  "cells": [
    {
      "cell_type": "markdown",
      "metadata": {
        "id": "view-in-github",
        "colab_type": "text"
      },
      "source": [
        "<a href=\"https://colab.research.google.com/github/seetharamaiah12/ram/blob/main/week3py.ipynb\" target=\"_parent\"><img src=\"https://colab.research.google.com/assets/colab-badge.svg\" alt=\"Open In Colab\"/></a>"
      ]
    },
    {
      "cell_type": "code",
      "metadata": {
        "id": "ngcF22daM3gQ"
      },
      "source": [
        "def income_tax(annualincome):\n",
        "   tax = annualincome*0.40\n",
        "\n",
        "   print(\"tax is {}\".format(tax))\n"
      ],
      "execution_count": null,
      "outputs": []
    },
    {
      "cell_type": "code",
      "metadata": {
        "id": "l-Quj86NYPNP",
        "colab": {
          "base_uri": "https://localhost:8080/"
        },
        "outputId": "0cc520ce-befb-4af3-81cc-c4f697ad7ff5"
      },
      "source": [
        "income_tax(40000)"
      ],
      "execution_count": null,
      "outputs": [
        {
          "output_type": "stream",
          "text": [
            "tax is 16000.0\n"
          ],
          "name": "stdout"
        }
      ]
    },
    {
      "cell_type": "code",
      "metadata": {
        "id": "LI7r8KpZa8pu",
        "colab": {
          "base_uri": "https://localhost:8080/"
        },
        "outputId": "e90dc074-aea1-4040-ec7a-1c9119de8b8e"
      },
      "source": [
        "a=0\n",
        "b=1\n",
        "count= 0\n",
        "print(a)\n",
        "print(b)\n",
        "while count<8:\n",
        "  sum1= a+b\n",
        "  print(sum1)\n",
        "  a=b\n",
        "  b=sum1\n",
        "  count = count+1\n",
        "  \n",
        "\n"
      ],
      "execution_count": null,
      "outputs": [
        {
          "output_type": "stream",
          "text": [
            "0\n",
            "1\n",
            "1\n",
            "2\n",
            "3\n",
            "5\n",
            "8\n",
            "13\n",
            "21\n",
            "34\n"
          ],
          "name": "stdout"
        }
      ]
    },
    {
      "cell_type": "code",
      "metadata": {
        "id": "ADr9fEQbeDt1",
        "colab": {
          "base_uri": "https://localhost:8080/"
        },
        "outputId": "a424d858-a4b8-4bc4-e170-62b093c41cb9"
      },
      "source": [
        "x= input(\"print my biography\")\n",
        "lenhh = len(x)\n",
        "print(lenhh)"
      ],
      "execution_count": null,
      "outputs": [
        {
          "output_type": "stream",
          "text": [
            "print my biographymy name is ram\n",
            "14\n"
          ],
          "name": "stdout"
        }
      ]
    }
  ]
}